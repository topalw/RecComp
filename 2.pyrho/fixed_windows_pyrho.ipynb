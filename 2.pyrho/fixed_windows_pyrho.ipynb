{
 "cells": [
  {
   "cell_type": "code",
   "execution_count": 1,
   "id": "bf15085d",
   "metadata": {},
   "outputs": [],
   "source": [
    "import pandas as pd\n",
    "\n",
    "\n",
    "data_names = [\"sim_4_10000.opt\", \"sim_4_100000.opt\", \"sim_8_10000.opt\", \"sim_8_100000.opt\", \"sim_20_10000.opt\", \"sim_20_100000.opt\",\n",
    "       \"sim_40_10000.opt\", \"sim_40_100000.opt\", \"sim_100_10000.opt\", \"sim_100_100000.opt\"]\n",
    "names = ['sim_4_10000_pyrho', 'sim_4_100000_pyrho', 'sim_8_10000_pyrho', 'sim_8_100000_pyrho', 'sim_20_10000_pyrho', 'sim_20_100000_pyrho', \n",
    "        'sim_40_10000_pyrho', 'sim_40_100000_pyrho', 'sim_100_10000_pyrho', 'sim_100_100000_pyrho']\n",
    "j = 0\n",
    "for i in data_names:\n",
    "\n",
    "    data = pd.read_csv(i, sep = '\\t', header = 0)\n",
    "\n",
    "    starting_point = 21700000\n",
    "    ending_point = 45700000\n",
    "    total_length = ending_point - starting_point    \n",
    "    \n",
    "    \n",
    "    def convert_dict_to_fixed_windows(data, window_size):\n",
    "        fixed_windows = []\n",
    "        total_windows = ( total_length // window_size)\n",
    "\n",
    "        for i in range(total_windows):\n",
    "            window_start = starting_point + i * window_size\n",
    "            window_end = window_start + window_size\n",
    "            rec_in_window = [(rec*(pos_2 - pos_1)) if pos_2 < window_end and pos_1 > window_start else (rec*(window_end - pos_1)) if pos_1 < window_end and pos_2 > window_end and pos_1 > window_start else (rec*(pos_2 - window_start)) if pos_1 < window_start and pos_2 > window_start and pos_2 < window_end else (rec*(window_end - window_start)) if pos_1 < window_start and pos_2 > window_end else 0 for pos_1, pos_2, rec in zip(data['pos_1'], data['pos_2'], data['rec'])]\n",
    "\n",
    "            if rec_in_window:\n",
    "                avg_rec = sum(rec_in_window) / window_size\n",
    "                fixed_windows.append((window_start, window_end, avg_rec))\n",
    "            else:\n",
    "                fixed_windows.append((window_start, window_end, 0))\n",
    "\n",
    "        fixed_windows_df = pd.DataFrame(fixed_windows, columns=['start', 'end', 'rec'])     \n",
    "        return fixed_windows_df\n",
    "\n",
    "\n",
    "    window_size = 100000\n",
    "    \n",
    "    fixed_windows_df = convert_dict_to_fixed_windows(data, window_size)\n",
    "    fixed_windows_df.to_csv(f'{names[j]}.txt', sep = '\\t', index=False)\n",
    "    j += 1"
   ]
  }
 ],
 "metadata": {
  "kernelspec": {
   "display_name": "Python 3 (ipykernel)",
   "language": "python",
   "name": "python3"
  },
  "language_info": {
   "codemirror_mode": {
    "name": "ipython",
    "version": 3
   },
   "file_extension": ".py",
   "mimetype": "text/x-python",
   "name": "python",
   "nbconvert_exporter": "python",
   "pygments_lexer": "ipython3",
   "version": "3.11.5"
  }
 },
 "nbformat": 4,
 "nbformat_minor": 5
}
